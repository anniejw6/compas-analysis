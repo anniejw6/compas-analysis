{
 "cells": [
  {
   "cell_type": "markdown",
   "metadata": {},
   "source": [
    "# Re-Analyzing the Compas Dataset (Focusing on Logistic Regression)\n",
    "\n",
    "In this notebook, I replicate the logistic regression component of ProPublica's analysis, which isolates the predictive value of various demographic indicators. As discussed below, ProPublica's statistical analysis is mathematically accurate but somewhat misleading: instead of comparing demographic indicators using the *entire sample*, the ProPublica analysis limits its comparisions to very specific and small subsets of the overall sample.\n",
    "\n",
    "When their analysis is properly extended to the entire sample, several striking claims become significantly more modest:\n",
    "\n",
    "* Black defendants were **~~45 percent~~ 20 percent** more likely to be assigned higher risk scores than white defendants.\n",
    "\n",
    "* Women are **~~19.4%~~ 8%** more likely than men to get a higher score.\n",
    "\n",
    "* [P]eople under 25 are **~~2.5~~ 1.9** times as likely to get a higher score as middle aged defendants.\n",
    "\n",
    "* The violent score overpredicts recidivism for black defendants by **~~77.3%~~ 33%** compared to white defendants.\n",
    "\n",
    "* Defendands under 25 are **~~7.4~~ 3.8** times as likely to get a higher score as middle aged defendants.\n",
    "\n",
    "Whenever possible, I replicate analyses using the [code provided by ProPublica](https://github.com/propublica/compas-analysis/blob/master/Compas%20Analysis.ipynb).\n",
    "\n",
    "Finally, a brief note on terminology before we proceed. The ProPublica authors repeatedly uses \"percent change\" (%) as a metric. An alternative is \"percentage point\" (pp). Wherever possible, I try to display both. Here is an example of how they are related: \n",
    "\n",
    "* Imagine that Person A's likelihood of being classified as high-risk is 25%, and Person B's likelihood is 50%. This represents a 100% change (`(50 - 25)/25`) and a 25pp (`50 - 25`) change. \n",
    "\n",
    "* Imagine that Person A's likelihood of being classified as high-risk is 1%, and Person B's likelihood is 2%. This is also a 100% change but only a 1pp change.\n",
    "\n",
    "Without understanding the \"base rate\", i.e., Person A's likelihood, reporting only percent change can be somewhat misleading."
   ]
  },
  {
   "cell_type": "markdown",
   "metadata": {},
   "source": [
    "# Claim 1: Black defendants were 45 percent more likely to be assigned higher risk scores than white defendants\n",
    "\n",
    "When recalculated over the entire same rather than a specific subset, this value is approximately 20%.\n",
    "\n",
    "First, we'll replicate what the author did."
   ]
  },
  {
   "cell_type": "code",
   "execution_count": 2,
   "metadata": {
    "scrolled": true
   },
   "outputs": [
    {
     "name": "stderr",
     "output_type": "stream",
     "text": [
      "\n",
      "Attaching package: ‘dplyr’\n",
      "\n",
      "The following objects are masked from ‘package:stats’:\n",
      "\n",
      "    filter, lag\n",
      "\n",
      "The following objects are masked from ‘package:base’:\n",
      "\n",
      "    intersect, setdiff, setequal, union\n",
      "\n"
     ]
    },
    {
     "data": {
      "text/html": [
       "7214"
      ],
      "text/latex": [
       "7214"
      ],
      "text/markdown": [
       "7214"
      ],
      "text/plain": [
       "[1] 7214"
      ]
     },
     "metadata": {},
     "output_type": "display_data"
    },
    {
     "data": {
      "text/html": [
       "6172"
      ],
      "text/latex": [
       "6172"
      ],
      "text/markdown": [
       "6172"
      ],
      "text/plain": [
       "[1] 6172"
      ]
     },
     "metadata": {},
     "output_type": "display_data"
    },
    {
     "data": {
      "text/plain": [
       "\n",
       "Call:\n",
       "glm(formula = score_factor ~ gender_factor + age_factor + race_factor + \n",
       "    priors_count + crime_factor + two_year_recid, family = \"binomial\", \n",
       "    data = df)\n",
       "\n",
       "Deviance Residuals: \n",
       "    Min       1Q   Median       3Q      Max  \n",
       "-2.9966  -0.7919  -0.3303   0.8121   2.6024  \n",
       "\n",
       "Coefficients:\n",
       "                            Estimate Std. Error z value Pr(>|z|)    \n",
       "(Intercept)                 -1.52554    0.07851 -19.430  < 2e-16 ***\n",
       "gender_factorFemale          0.22127    0.07951   2.783 0.005388 ** \n",
       "age_factorGreater than 45   -1.35563    0.09908 -13.682  < 2e-16 ***\n",
       "age_factorLess than 25       1.30839    0.07593  17.232  < 2e-16 ***\n",
       "race_factorAfrican-American  0.47721    0.06935   6.881 5.93e-12 ***\n",
       "race_factorAsian            -0.25441    0.47821  -0.532 0.594717    \n",
       "race_factorHispanic         -0.42839    0.12813  -3.344 0.000827 ***\n",
       "race_factorNative American   1.39421    0.76612   1.820 0.068784 .  \n",
       "race_factorOther            -0.82635    0.16208  -5.098 3.43e-07 ***\n",
       "priors_count                 0.26895    0.01110  24.221  < 2e-16 ***\n",
       "crime_factorM               -0.31124    0.06655  -4.677 2.91e-06 ***\n",
       "two_year_recid               0.68586    0.06402  10.713  < 2e-16 ***\n",
       "---\n",
       "Signif. codes:  0 ‘***’ 0.001 ‘**’ 0.01 ‘*’ 0.05 ‘.’ 0.1 ‘ ’ 1\n",
       "\n",
       "(Dispersion parameter for binomial family taken to be 1)\n",
       "\n",
       "    Null deviance: 8483.3  on 6171  degrees of freedom\n",
       "Residual deviance: 6168.4  on 6160  degrees of freedom\n",
       "AIC: 6192.4\n",
       "\n",
       "Number of Fisher Scoring iterations: 5\n"
      ]
     },
     "metadata": {},
     "output_type": "display_data"
    }
   ],
   "source": [
    "# The code below is copied from the original\n",
    "\n",
    "# Cell 2\n",
    "\n",
    "library(dplyr)\n",
    "library(ggplot2)\n",
    "raw_data <- read.csv(\"./compas-scores-two-years.csv\")\n",
    "nrow(raw_data)\n",
    "\n",
    "# Cell 3\n",
    "\n",
    "df <- dplyr::select(raw_data, age, c_charge_degree, race, age_cat, score_text, sex, priors_count, \n",
    "                    days_b_screening_arrest, decile_score, is_recid, two_year_recid, c_jail_in, c_jail_out) %>% \n",
    "        filter(days_b_screening_arrest <= 30) %>%\n",
    "        filter(days_b_screening_arrest >= -30) %>%\n",
    "        filter(is_recid != -1) %>%\n",
    "        filter(c_charge_degree != \"O\") %>%\n",
    "        filter(score_text != 'N/A')\n",
    "nrow(df)\n",
    "\n",
    "# Cell 4\n",
    "\n",
    "df$length_of_stay <- as.numeric(as.Date(df$c_jail_out) - as.Date(df$c_jail_in))\n",
    "\n",
    "# Cell 5 through 15 ommitted - they display summary statistics only\n",
    "# No changes are made to the dataset\n",
    "\n",
    "# Cell 16\n",
    "\n",
    "df <- mutate(df, crime_factor = factor(c_charge_degree)) %>%\n",
    "      mutate(age_factor = as.factor(age_cat)) %>%\n",
    "      within(age_factor <- relevel(age_factor, ref = 1)) %>%\n",
    "      mutate(race_factor = factor(race)) %>%\n",
    "      within(race_factor <- relevel(race_factor, ref = 3)) %>%\n",
    "      mutate(gender_factor = factor(sex, labels= c(\"Female\",\"Male\"))) %>%\n",
    "      within(gender_factor <- relevel(gender_factor, ref = 2)) %>%\n",
    "      mutate(score_factor = factor(score_text != \"Low\", labels = c(\"LowScore\",\"HighScore\")))\n",
    "model <- glm(score_factor ~ gender_factor + age_factor + race_factor +\n",
    "                            priors_count + crime_factor + two_year_recid, family=\"binomial\", data=df)\n",
    "summary(model)"
   ]
  },
  {
   "cell_type": "markdown",
   "metadata": {},
   "source": [
    "Note that the model above perfectly reproduces the model in the [original](http://localhost:8888/notebooks/Compas%20Analysis.ipynb). See output of Cell 16. The author then writes\n",
    "\n",
    "> Black defendants are 45% more likely than white defendants to receive a higher score correcting for the seriousness of their crime, previous arrests, and future criminal behavior.\n",
    "\n",
    "In cell 17, the author runs the following calculation to arrive at this 45% figure."
   ]
  },
  {
   "cell_type": "code",
   "execution_count": 3,
   "metadata": {
    "scrolled": true
   },
   "outputs": [
    {
     "data": {
      "text/html": [
       "1.45284086581389"
      ],
      "text/latex": [
       "1.45284086581389"
      ],
      "text/markdown": [
       "1.45284086581389"
      ],
      "text/plain": [
       "[1] 1.452841"
      ]
     },
     "metadata": {},
     "output_type": "display_data"
    }
   ],
   "source": [
    "# Cell 17\n",
    "control <- exp(-1.52554) / (1 + exp(-1.52554))\n",
    "exp(0.47721) / (1 - control + (control * exp(0.47721)))"
   ]
  },
  {
   "cell_type": "markdown",
   "metadata": {},
   "source": [
    "First, a note on logistic regression.\n",
    "\n",
    "The author is fitting a linear model as follows:\n",
    "\n",
    "$$\n",
    "\\begin{aligned}\n",
    " Y = &(-1.52) + 0.22 \\cdot Female + (-1.35) \\cdot Over45 + (-1.30) \\cdot Under25 + \\\\\n",
    "     &0.47 \\cdot AfAm + (-0.25) \\cdot Asian + (-0.42) \\cdot Hispanic + \\\\\n",
    "     &(1.39) \\cdot NativeAmerican + (-0.82) \\cdot RaceOther + \\\\\n",
    "     &(0.26) \\cdot PriorsCount + (-0.31) \\cdot CrimeFactorM + 0.68 \\cdot TwoYearRecid\n",
    "\\end{aligned}\n",
    "$$\n",
    "\n",
    "To calculate the expected score for any *individual*, we plug in the actual values for the individual. For example, let's say that we want to calculate the likelihood of getting a high score for an African-American woman between the ages of 25 and 45 with 3 prior counts. Here's how we would do that"
   ]
  },
  {
   "cell_type": "code",
   "execution_count": 4,
   "metadata": {
    "scrolled": true
   },
   "outputs": [
    {
     "data": {
      "text/html": [
       "-0.0202099999999997"
      ],
      "text/latex": [
       "-0.0202099999999997"
      ],
      "text/markdown": [
       "-0.0202099999999997"
      ],
      "text/plain": [
       "[1] -0.02021"
      ]
     },
     "metadata": {},
     "output_type": "display_data"
    }
   ],
   "source": [
    "Female <- 1 # 1 because this is among women\n",
    "Over45 <- 0\n",
    "Under25 <- 0\n",
    "AfAm <- 1 # 1 because we're looking at Af-Ams\n",
    "Asian <- 0\n",
    "Hispanic <- 0\n",
    "NativeAmerican <- 0\n",
    "RaceOther <- 0\n",
    "PriorsCount <- 3 # 3 prior counts\n",
    "CrimeFactorM <- 0\n",
    "TwoYearRecid <- 0\n",
    "\n",
    "out <- (-1.52554) + 0.22127 * Female + (-1.35563) * Over45 + (1.30839) * Under25 + \n",
    "       (0.47721) * AfAm + (-0.25441) * Asian + (-0.42839) * Hispanic + \n",
    "       (1.39421) * NativeAmerican + (-0.82635) * RaceOther +\n",
    "       (0.26895) * PriorsCount + (-0.31124) * CrimeFactorM + (0.68586) * TwoYearRecid\n",
    "\n",
    "out"
   ]
  },
  {
   "cell_type": "markdown",
   "metadata": {},
   "source": [
    "But wait, wasn't this supposed to be a *probability* of someone with those characteristics getting a high score? How can the value be negative? Well, this is the joys of using a logistic regression. We have to apply the [link function](https://en.wikipedia.org/wiki/Generalized_linear_model#Link_function) to transform it into a probability value:"
   ]
  },
  {
   "cell_type": "code",
   "execution_count": 5,
   "metadata": {
    "scrolled": true
   },
   "outputs": [
    {
     "data": {
      "text/html": [
       "0.494947671964961"
      ],
      "text/latex": [
       "0.494947671964961"
      ],
      "text/markdown": [
       "0.494947671964961"
      ],
      "text/plain": [
       "[1] 0.4949477"
      ]
     },
     "metadata": {},
     "output_type": "display_data"
    }
   ],
   "source": [
    "exp(out) / (1 + exp(out)) "
   ]
  },
  {
   "cell_type": "markdown",
   "metadata": {},
   "source": [
    "So African-American women between the ages of 25 and 45 with 3 prior counts have a 49% likelihood of being predicted to have a high score. Now, let's calculate it for a White woman with the same characteristics."
   ]
  },
  {
   "cell_type": "code",
   "execution_count": 6,
   "metadata": {
    "scrolled": true
   },
   "outputs": [
    {
     "data": {
      "text/html": [
       "0.37814716966016"
      ],
      "text/latex": [
       "0.37814716966016"
      ],
      "text/markdown": [
       "0.37814716966016"
      ],
      "text/plain": [
       "[1] 0.3781472"
      ]
     },
     "metadata": {},
     "output_type": "display_data"
    }
   ],
   "source": [
    "Female <- 1\n",
    "Over45 <- 0\n",
    "Under25 <- 0\n",
    "AfAm <- 0 # Note that this is now set to 0\n",
    "Asian <- 0\n",
    "Hispanic <- 0\n",
    "NativeAmerican <- 0\n",
    "RaceOther <- 0\n",
    "PriorsCount <- 3\n",
    "CrimeFactorM <- 0\n",
    "TwoYearRecid <- 0\n",
    "\n",
    "out <- (-1.52554) + 0.22127 * Female + (-1.35563) * Over45 + (1.30839) * Under25 + \n",
    "       (0.47721) * AfAm + (-0.25441) * Asian + (-0.42839) * Hispanic + \n",
    "       (1.39421) * NativeAmerican + (-0.82635) * RaceOther +\n",
    "       (0.26895) * PriorsCount + (-0.31124) * CrimeFactorM + (0.68586) * TwoYearRecid\n",
    "\n",
    "exp(out) / (1 + exp(out)) "
   ]
  },
  {
   "cell_type": "markdown",
   "metadata": {},
   "source": [
    "Now, we can calculate the \"relative risk ratio\" by comparing those probabilities: "
   ]
  },
  {
   "cell_type": "code",
   "execution_count": 7,
   "metadata": {
    "scrolled": true
   },
   "outputs": [
    {
     "data": {
      "text/html": [
       "1.32746334136412"
      ],
      "text/latex": [
       "1.32746334136412"
      ],
      "text/markdown": [
       "1.32746334136412"
      ],
      "text/plain": [
       "[1] 1.327463"
      ]
     },
     "metadata": {},
     "output_type": "display_data"
    }
   ],
   "source": [
    "0.494947671964961 / 0.372852233686804"
   ]
  },
  {
   "cell_type": "markdown",
   "metadata": {},
   "source": [
    "Here, we show that African-American women between the ages of 25 and 45 with 3 prior counts are 33% more likely to be assigned a high score than similar white women. \n",
    "\n",
    "Now, why did we go through this whole exercise? Beause it turns out that the relative risk ratio *changes* based on what group you're comparing. And, in fact, the ProPublica authors write that African-Americans are **45%** more likely to have a higher score. \n",
    "\n",
    "So how did they get to 45%?\n",
    "\n",
    "Well, let's go back to Cell 17. There, the authors ran this calculation:\n",
    "\n",
    "```\n",
    "control <- exp(-1.52554) / (1 + exp(-1.52554))\n",
    "exp(0.47721) / (1 - control + (control * exp(0.47721)))\n",
    "\n",
    "# 1.45284086581389\n",
    "```\n",
    "\n",
    "This is kind of confusing, but if you'll notice, `-1.52` is just the intercept of the model, and `0.47` is just the coefficient on African-American. So if we were to return to our earlier example, it's the equivalent of comparing these two groups:"
   ]
  },
  {
   "cell_type": "code",
   "execution_count": 8,
   "metadata": {
    "scrolled": true
   },
   "outputs": [
    {
     "data": {
      "text/html": [
       "0.178647174433406"
      ],
      "text/latex": [
       "0.178647174433406"
      ],
      "text/markdown": [
       "0.178647174433406"
      ],
      "text/plain": [
       "[1] 0.1786472"
      ]
     },
     "metadata": {},
     "output_type": "display_data"
    }
   ],
   "source": [
    "# In the intercept-only model, all coefficients are set to 0.\n",
    "Female <- 0\n",
    "Over45 <- 0\n",
    "Under25 <- 0\n",
    "AfAm <- 0\n",
    "Asian <- 0\n",
    "Hispanic <- 0\n",
    "NativeAmerican <- 0\n",
    "RaceOther <- 0\n",
    "PriorsCount <- 0\n",
    "CrimeFactorM <- 0\n",
    "TwoYearRecid <- 0\n",
    "\n",
    "out <- (-1.52554) + 0.22127 * Female + (-1.35563) * Over45 + (1.30839) * Under25 + \n",
    "       (0.47721) * AfAm + (-0.25441) * Asian + (-0.42839) * Hispanic + \n",
    "       (1.39421) * NativeAmerican + (-0.82635) * RaceOther +\n",
    "       (0.26895) * PriorsCount + (-0.31124) * CrimeFactorM + (0.68586) * TwoYearRecid\n",
    "\n",
    "\n",
    "white_prob <- exp(out) / (1 + exp(out))\n",
    "white_prob"
   ]
  },
  {
   "cell_type": "code",
   "execution_count": 9,
   "metadata": {
    "scrolled": true
   },
   "outputs": [
    {
     "data": {
      "text/html": [
       "0.259545915579036"
      ],
      "text/latex": [
       "0.259545915579036"
      ],
      "text/markdown": [
       "0.259545915579036"
      ],
      "text/plain": [
       "[1] 0.2595459"
      ]
     },
     "metadata": {},
     "output_type": "display_data"
    }
   ],
   "source": [
    "Female <- 0\n",
    "Over45 <- 0\n",
    "Under25 <- 0\n",
    "AfAm <- 1 # Now we're including the African-American coefficient\n",
    "Asian <- 0\n",
    "Hispanic <- 0\n",
    "NativeAmerican <- 0\n",
    "RaceOther <- 0\n",
    "PriorsCount <- 0\n",
    "CrimeFactorM <- 0\n",
    "TwoYearRecid <- 0\n",
    "\n",
    "out <- (-1.52554) + 0.22127 * Female + (-1.35563) * Over45 + (1.30839) * Under25 + \n",
    "       (0.47721) * AfAm + (-0.25441) * Asian + (-0.42839) * Hispanic + \n",
    "       (1.39421) * NativeAmerican + (-0.82635) * RaceOther +\n",
    "       (0.26895) * PriorsCount + (-0.31124) * CrimeFactorM + (0.68586) * TwoYearRecid\n",
    "\n",
    "\n",
    "afam_prob <- exp(out) / (1 + exp(out))\n",
    "afam_prob"
   ]
  },
  {
   "cell_type": "markdown",
   "metadata": {},
   "source": [
    "And to make sure we've replicated the risk ratio correctly..."
   ]
  },
  {
   "cell_type": "code",
   "execution_count": 10,
   "metadata": {
    "scrolled": true
   },
   "outputs": [
    {
     "data": {
      "text/html": [
       "1.45284086581389"
      ],
      "text/latex": [
       "1.45284086581389"
      ],
      "text/markdown": [
       "1.45284086581389"
      ],
      "text/plain": [
       "[1] 1.452841"
      ]
     },
     "metadata": {},
     "output_type": "display_data"
    }
   ],
   "source": [
    "afam_prob / white_prob"
   ]
  },
  {
   "cell_type": "markdown",
   "metadata": {},
   "source": [
    "Yay, same as what the author calculated! \n",
    "\n",
    "But what did we actually do? By comparing the Intercept-Only model versus Intercept+Afam Model, we actually made a **very specific** comparision, namely one where all the over covariates are set to zero. In effect, the author is comparing the likelihood of being classified as high risk for Whites vs. African-American American\n",
    "\n",
    "* males AND\n",
    "* between the ages of 25 and 45 AND \n",
    "* with no recidivism AND \n",
    "* with no priors AND \n",
    "* a particular crime severity.\n",
    "\n",
    "That's actually a really specific group of people! And how many people actually fall into this category?"
   ]
  },
  {
   "cell_type": "code",
   "execution_count": 11,
   "metadata": {
    "scrolled": true
   },
   "outputs": [
    {
     "data": {
      "text/html": [
       "0.0456612353164077"
      ],
      "text/latex": [
       "0.0456612353164077"
      ],
      "text/markdown": [
       "0.0456612353164077"
      ],
      "text/plain": [
       "[1] 0.04566124"
      ]
     },
     "metadata": {},
     "output_type": "display_data"
    }
   ],
   "source": [
    "# Everyone who meets the criteria listed above\n",
    "meet_criteria <- df$gender_factor != 'Female' & df$age_factor != 'Greater than 45' & \n",
    "                    df$age_factor != 'Less than 25' & \n",
    "                    df$race_factor %in% c('Caucasian', 'African-American') &\n",
    "                    df$priors_count == 0 & df$crime_factor != 'M' & df$two_year_recid == 0\n",
    "\n",
    "# Everyone who is White or Black\n",
    "all_afam_white <- df$race_factor %in% c('Caucasian', 'African-American')\n",
    "\n",
    "# Proportion who meet criteria\n",
    "sum(meet_criteria) / sum(all_afam_white)"
   ]
  },
  {
   "cell_type": "markdown",
   "metadata": {},
   "source": [
    "The reported 45% increase in likelihood only applies to **4.6%** of the sample. The fact that the increase is that stark for even a small proportion of the sample is meaningful, but if we actually calculate the value for the entire dataset, the findings are somewhat different.\n",
    "\n",
    "There are two ways to calculate something closer to the average marginal effect over the entire dataset: \n",
    "\n",
    "1. Calculate [marginal effects and levels using the delta method](https://cran.r-project.org/web/packages/modmarg/vignettes/delta-method.html)\n",
    "\n",
    "2. Calculate the ordinary least squares model. This may lead to model spitting back values greater than 0 or 1 for some combinations of covariates, but the coefficient itself will represent the marginal value. This means that OLS is a bad choice for calculating the risk ratio, but it will be a good sanity check for us.\n",
    "\n",
    "(And to be clear, these aren't the only ways to calculate effects. You could add interactions to the model, or use non-linear model. But within the logistic regression framework that the authors are trying to use, there are more accurate / representative ways of calculating average marginal effects.)"
   ]
  },
  {
   "cell_type": "markdown",
   "metadata": {},
   "source": [
    "## Marginal Effects / Levels Using the Delta Method\n",
    "\n",
    "The basic idea behind a marginal effects model is that it calculates the risk level across *all* covariates based on instead of just using a specific sample. We do this by taking the entire dataset and basically comparing what the model predicts when we set everyone's race to \"African-American\" versus if we set everyone's race to \"White\":"
   ]
  },
  {
   "cell_type": "code",
   "execution_count": 12,
   "metadata": {
    "scrolled": true
   },
   "outputs": [],
   "source": [
    "# Set Everyone's Race to White\n",
    "everyone_white <- df %>%\n",
    "                    mutate(race_factor = 'Caucasian')\n",
    "# Get Model Predictions\n",
    "pred_wht <- predict(model, newdata = everyone_white, type = 'response')\n",
    "\n",
    "# Set Everyone's Race to Af-Am\n",
    "everyone_afam <- df %>%\n",
    "                   mutate(race_factor = 'African-American')\n",
    "# Get Model Predictions\n",
    "pred_afam <- predict(model, newdata = everyone_afam, type = 'response')"
   ]
  },
  {
   "cell_type": "code",
   "execution_count": 13,
   "metadata": {
    "scrolled": true
   },
   "outputs": [
    {
     "data": {
      "text/html": [
       "0.414277837380879"
      ],
      "text/latex": [
       "0.414277837380879"
      ],
      "text/markdown": [
       "0.414277837380879"
      ],
      "text/plain": [
       "[1] 0.4142778"
      ]
     },
     "metadata": {},
     "output_type": "display_data"
    }
   ],
   "source": [
    "# Average outcomes for white, holding ALL covariates constant\n",
    "mean(pred_wht) "
   ]
  },
  {
   "cell_type": "markdown",
   "metadata": {},
   "source": [
    "Across all covariates (i.e., all combinations of gender and recidivism and crime type) in this sample, if everyone were white, the average likelihood of getting a \"High\" score is 41%."
   ]
  },
  {
   "cell_type": "code",
   "execution_count": 14,
   "metadata": {
    "scrolled": true
   },
   "outputs": [
    {
     "data": {
      "text/html": [
       "0.497486784735364"
      ],
      "text/latex": [
       "0.497486784735364"
      ],
      "text/markdown": [
       "0.497486784735364"
      ],
      "text/plain": [
       "[1] 0.4974868"
      ]
     },
     "metadata": {},
     "output_type": "display_data"
    }
   ],
   "source": [
    "# Average outcomes for Blacks, holding ALL covariates constant\n",
    "mean(pred_afam)"
   ]
  },
  {
   "cell_type": "markdown",
   "metadata": {},
   "source": [
    "Across all covariates (i.e., all combinations of gender and recidivism and crime type) in this sample, if everyone were Black, the average likelihood of getting a \"High\" score is 49%."
   ]
  },
  {
   "cell_type": "code",
   "execution_count": 15,
   "metadata": {
    "scrolled": true
   },
   "outputs": [
    {
     "data": {
      "text/html": [
       "1.20085300213148"
      ],
      "text/latex": [
       "1.20085300213148"
      ],
      "text/markdown": [
       "1.20085300213148"
      ],
      "text/plain": [
       "[1] 1.200853"
      ]
     },
     "metadata": {},
     "output_type": "display_data"
    }
   ],
   "source": [
    "# Risk Ratio\n",
    "mean(pred_afam) / mean(pred_wht)"
   ]
  },
  {
   "cell_type": "markdown",
   "metadata": {},
   "source": [
    "The risk ratio is 1.2, i.e., across the set of demographics in the sample, if everyone were African-American, we'd expect the likelihood of getting a \"High\" score to be 20% higher than if everyone were White. This is a difference of approx"
   ]
  },
  {
   "cell_type": "markdown",
   "metadata": {},
   "source": [
    "This functionality is also available in the `modmarg` package (of which I am the primary author). The nice part about using this package is that it just makes the syantax easier and also incorporates standard errors on our estimate. Below, we'll calculate these predicted \"levels\" again. You'll note that the values are identical to above."
   ]
  },
  {
   "cell_type": "code",
   "execution_count": 16,
   "metadata": {
    "scrolled": true
   },
   "outputs": [
    {
     "data": {
      "text/html": [
       "<ol>\n",
       "\t<li><table>\n",
       "<thead><tr><th scope=col>Label</th><th scope=col>Margin</th><th scope=col>Standard.Error</th><th scope=col>Test.Stat</th><th scope=col>P.Value</th><th scope=col>Lower CI (95%)</th><th scope=col>Upper CI (95%)</th></tr></thead>\n",
       "<tbody>\n",
       "\t<tr><td>race_factor = Caucasian       </td><td>0.4142778                     </td><td>0.009330919                   </td><td>44.398395                     </td><td>0.000000e+00                  </td><td>0.3959896                     </td><td>0.4325661                     </td></tr>\n",
       "\t<tr><td>race_factor = African-American</td><td>0.4974868                     </td><td>0.007593035                   </td><td>65.518830                     </td><td>0.000000e+00                  </td><td>0.4826047                     </td><td>0.5123689                     </td></tr>\n",
       "\t<tr><td>race_factor = Asian           </td><td>0.3717285                     </td><td>0.077824589                   </td><td> 4.776491                     </td><td>1.783804e-06                  </td><td>0.2191951                     </td><td>0.5242619                     </td></tr>\n",
       "\t<tr><td>race_factor = Hispanic        </td><td>0.3437204                     </td><td>0.018345724                   </td><td>18.735721                     </td><td>2.531908e-78                  </td><td>0.3077634                     </td><td>0.3796773                     </td></tr>\n",
       "\t<tr><td>race_factor = Native American </td><td>0.6569112                     </td><td>0.126511111                   </td><td> 5.192518                     </td><td>2.074686e-07                  </td><td>0.4089540                     </td><td>0.9048685                     </td></tr>\n",
       "\t<tr><td>race_factor = Other           </td><td>0.2838012                     </td><td>0.021795958                   </td><td>13.020817                     </td><td>9.316845e-39                  </td><td>0.2410819                     </td><td>0.3265205                     </td></tr>\n",
       "</tbody>\n",
       "</table>\n",
       "</li>\n",
       "</ol>\n"
      ],
      "text/latex": [
       "\\begin{enumerate}\n",
       "\\item \\begin{tabular}{r|lllllll}\n",
       " Label & Margin & Standard.Error & Test.Stat & P.Value & Lower CI (95\\%) & Upper CI (95\\%)\\\\\n",
       "\\hline\n",
       "\t race\\_factor = Caucasian        & 0.4142778                        & 0.009330919                      & 44.398395                        & 0.000000e+00                     & 0.3959896                        & 0.4325661                       \\\\\n",
       "\t race\\_factor = African-American & 0.4974868                        & 0.007593035                      & 65.518830                        & 0.000000e+00                     & 0.4826047                        & 0.5123689                       \\\\\n",
       "\t race\\_factor = Asian            & 0.3717285                        & 0.077824589                      &  4.776491                        & 1.783804e-06                     & 0.2191951                        & 0.5242619                       \\\\\n",
       "\t race\\_factor = Hispanic         & 0.3437204                        & 0.018345724                      & 18.735721                        & 2.531908e-78                     & 0.3077634                        & 0.3796773                       \\\\\n",
       "\t race\\_factor = Native American  & 0.6569112                        & 0.126511111                      &  5.192518                        & 2.074686e-07                     & 0.4089540                        & 0.9048685                       \\\\\n",
       "\t race\\_factor = Other            & 0.2838012                        & 0.021795958                      & 13.020817                        & 9.316845e-39                     & 0.2410819                        & 0.3265205                       \\\\\n",
       "\\end{tabular}\n",
       "\n",
       "\\end{enumerate}\n"
      ],
      "text/markdown": [
       "1. \n",
       "Label | Margin | Standard.Error | Test.Stat | P.Value | Lower CI (95%) | Upper CI (95%) | \n",
       "|---|---|---|---|---|---|\n",
       "| race_factor = Caucasian        | 0.4142778                      | 0.009330919                    | 44.398395                      | 0.000000e+00                   | 0.3959896                      | 0.4325661                      | \n",
       "| race_factor = African-American | 0.4974868                      | 0.007593035                    | 65.518830                      | 0.000000e+00                   | 0.4826047                      | 0.5123689                      | \n",
       "| race_factor = Asian            | 0.3717285                      | 0.077824589                    |  4.776491                      | 1.783804e-06                   | 0.2191951                      | 0.5242619                      | \n",
       "| race_factor = Hispanic         | 0.3437204                      | 0.018345724                    | 18.735721                      | 2.531908e-78                   | 0.3077634                      | 0.3796773                      | \n",
       "| race_factor = Native American  | 0.6569112                      | 0.126511111                    |  5.192518                      | 2.074686e-07                   | 0.4089540                      | 0.9048685                      | \n",
       "| race_factor = Other            | 0.2838012                      | 0.021795958                    | 13.020817                      | 9.316845e-39                   | 0.2410819                      | 0.3265205                      | \n",
       "\n",
       "\n",
       "\n",
       "\n",
       "\n"
      ],
      "text/plain": [
       "[[1]]\n",
       "                           Label    Margin Standard.Error Test.Stat\n",
       "1        race_factor = Caucasian 0.4142778    0.009330919 44.398395\n",
       "2 race_factor = African-American 0.4974868    0.007593035 65.518830\n",
       "3            race_factor = Asian 0.3717285    0.077824589  4.776491\n",
       "4         race_factor = Hispanic 0.3437204    0.018345724 18.735721\n",
       "5  race_factor = Native American 0.6569112    0.126511111  5.192518\n",
       "6            race_factor = Other 0.2838012    0.021795958 13.020817\n",
       "       P.Value Lower CI (95%) Upper CI (95%)\n",
       "1 0.000000e+00      0.3959896      0.4325661\n",
       "2 0.000000e+00      0.4826047      0.5123689\n",
       "3 1.783804e-06      0.2191951      0.5242619\n",
       "4 2.531908e-78      0.3077634      0.3796773\n",
       "5 2.074686e-07      0.4089540      0.9048685\n",
       "6 9.316845e-39      0.2410819      0.3265205\n"
      ]
     },
     "metadata": {},
     "output_type": "display_data"
    }
   ],
   "source": [
    "modmarg::marg(model, 'race_factor', type = 'levels')"
   ]
  },
  {
   "cell_type": "markdown",
   "metadata": {},
   "source": [
    "Now we'll calculates the *change* in probability for different races, with Caucasian as a baseline, holding other variables constant across all iterations."
   ]
  },
  {
   "cell_type": "code",
   "execution_count": 17,
   "metadata": {
    "scrolled": false
   },
   "outputs": [
    {
     "data": {
      "text/html": [
       "<ol>\n",
       "\t<li><table>\n",
       "<thead><tr><th scope=col>Label</th><th scope=col>Margin</th><th scope=col>Standard.Error</th><th scope=col>Test.Stat</th><th scope=col>P.Value</th><th scope=col>Lower CI (95%)</th><th scope=col>Upper CI (95%)</th></tr></thead>\n",
       "<tbody>\n",
       "\t<tr><td>race_factor = Caucasian       </td><td> 0.00000000                   </td><td>0.00000000                    </td><td>      NaN                     </td><td>         NaN                  </td><td> 0.00000000                   </td><td> 0.00000000                   </td></tr>\n",
       "\t<tr><td>race_factor = African-American</td><td> 0.08320895                   </td><td>0.01217533                    </td><td> 6.834226                     </td><td>8.244875e-12                  </td><td> 0.05934574                   </td><td> 0.10707215                   </td></tr>\n",
       "\t<tr><td>race_factor = Asian           </td><td>-0.04254938                   </td><td>0.07835115                    </td><td>-0.543060                     </td><td>5.870885e-01                  </td><td>-0.19611482                   </td><td> 0.11101606                   </td></tr>\n",
       "\t<tr><td>race_factor = Hispanic        </td><td>-0.07055748                   </td><td>0.02052939                    </td><td>-3.436902                     </td><td>5.884092e-04                  </td><td>-0.11079434                   </td><td>-0.03032063                   </td></tr>\n",
       "\t<tr><td>race_factor = Native American </td><td> 0.24263341                   </td><td>0.12687936                    </td><td> 1.912316                     </td><td>5.583570e-02                  </td><td>-0.00604557                   </td><td> 0.49131239                   </td></tr>\n",
       "\t<tr><td>race_factor = Other           </td><td>-0.13047665                   </td><td>0.02363606                    </td><td>-5.520238                     </td><td>3.385413e-08                  </td><td>-0.17680247                   </td><td>-0.08415083                   </td></tr>\n",
       "</tbody>\n",
       "</table>\n",
       "</li>\n",
       "</ol>\n"
      ],
      "text/latex": [
       "\\begin{enumerate}\n",
       "\\item \\begin{tabular}{r|lllllll}\n",
       " Label & Margin & Standard.Error & Test.Stat & P.Value & Lower CI (95\\%) & Upper CI (95\\%)\\\\\n",
       "\\hline\n",
       "\t race\\_factor = Caucasian        &  0.00000000                      & 0.00000000                       &       NaN                        &          NaN                     &  0.00000000                      &  0.00000000                     \\\\\n",
       "\t race\\_factor = African-American &  0.08320895                      & 0.01217533                       &  6.834226                        & 8.244875e-12                     &  0.05934574                      &  0.10707215                     \\\\\n",
       "\t race\\_factor = Asian            & -0.04254938                      & 0.07835115                       & -0.543060                        & 5.870885e-01                     & -0.19611482                      &  0.11101606                     \\\\\n",
       "\t race\\_factor = Hispanic         & -0.07055748                      & 0.02052939                       & -3.436902                        & 5.884092e-04                     & -0.11079434                      & -0.03032063                     \\\\\n",
       "\t race\\_factor = Native American  &  0.24263341                      & 0.12687936                       &  1.912316                        & 5.583570e-02                     & -0.00604557                      &  0.49131239                     \\\\\n",
       "\t race\\_factor = Other            & -0.13047665                      & 0.02363606                       & -5.520238                        & 3.385413e-08                     & -0.17680247                      & -0.08415083                     \\\\\n",
       "\\end{tabular}\n",
       "\n",
       "\\end{enumerate}\n"
      ],
      "text/markdown": [
       "1. \n",
       "Label | Margin | Standard.Error | Test.Stat | P.Value | Lower CI (95%) | Upper CI (95%) | \n",
       "|---|---|---|---|---|---|\n",
       "| race_factor = Caucasian        |  0.00000000                    | 0.00000000                     |       NaN                      |          NaN                   |  0.00000000                    |  0.00000000                    | \n",
       "| race_factor = African-American |  0.08320895                    | 0.01217533                     |  6.834226                      | 8.244875e-12                   |  0.05934574                    |  0.10707215                    | \n",
       "| race_factor = Asian            | -0.04254938                    | 0.07835115                     | -0.543060                      | 5.870885e-01                   | -0.19611482                    |  0.11101606                    | \n",
       "| race_factor = Hispanic         | -0.07055748                    | 0.02052939                     | -3.436902                      | 5.884092e-04                   | -0.11079434                    | -0.03032063                    | \n",
       "| race_factor = Native American  |  0.24263341                    | 0.12687936                     |  1.912316                      | 5.583570e-02                   | -0.00604557                    |  0.49131239                    | \n",
       "| race_factor = Other            | -0.13047665                    | 0.02363606                     | -5.520238                      | 3.385413e-08                   | -0.17680247                    | -0.08415083                    | \n",
       "\n",
       "\n",
       "\n",
       "\n",
       "\n"
      ],
      "text/plain": [
       "[[1]]\n",
       "                           Label      Margin Standard.Error Test.Stat\n",
       "1        race_factor = Caucasian  0.00000000     0.00000000       NaN\n",
       "2 race_factor = African-American  0.08320895     0.01217533  6.834226\n",
       "3            race_factor = Asian -0.04254938     0.07835115 -0.543060\n",
       "4         race_factor = Hispanic -0.07055748     0.02052939 -3.436902\n",
       "5  race_factor = Native American  0.24263341     0.12687936  1.912316\n",
       "6            race_factor = Other -0.13047665     0.02363606 -5.520238\n",
       "       P.Value Lower CI (95%) Upper CI (95%)\n",
       "1          NaN     0.00000000     0.00000000\n",
       "2 8.244875e-12     0.05934574     0.10707215\n",
       "3 5.870885e-01    -0.19611482     0.11101606\n",
       "4 5.884092e-04    -0.11079434    -0.03032063\n",
       "5 5.583570e-02    -0.00604557     0.49131239\n",
       "6 3.385413e-08    -0.17680247    -0.08415083\n"
      ]
     },
     "metadata": {},
     "output_type": "display_data"
    }
   ],
   "source": [
    "modmarg::marg(model, 'race_factor', type = 'effects')"
   ]
  },
  {
   "cell_type": "markdown",
   "metadata": {},
   "source": [
    "Here the marginal effect of being classified as high risk is 8.3pp higher than for Whites. `0.4974868` - `0.4142778` = `0.08320895`. This difference *is* statistically significant.\n",
    "\n",
    "The risk ratio, as calculated earlier, is 20% (`0.4974868` / `0.4142778`)"
   ]
  },
  {
   "cell_type": "markdown",
   "metadata": {},
   "source": [
    "## Ordinary Least Squares\n",
    "\n",
    "In addition to running marginal effects, we can also do something a bit more low-tech and just run an ordinary least squares (OLS) regression to double-check whether the calculations above make sense. In an OLS regression, the value of the coefficient on African-American will be *constant* across the entire dataset."
   ]
  },
  {
   "cell_type": "code",
   "execution_count": 18,
   "metadata": {
    "scrolled": true
   },
   "outputs": [
    {
     "data": {
      "text/plain": [
       "\n",
       "Call:\n",
       "glm(formula = score_factor_numeric ~ gender_factor + age_factor + \n",
       "    race_factor + priors_count + crime_factor + two_year_recid, \n",
       "    family = \"gaussian\", data = df)\n",
       "\n",
       "Deviance Residuals: \n",
       "     Min        1Q    Median        3Q       Max  \n",
       "-1.13742  -0.32725  -0.06756   0.35213   1.06124  \n",
       "\n",
       "Coefficients:\n",
       "                             Estimate Std. Error t value Pr(>|t|)    \n",
       "(Intercept)                  0.221120   0.013060  16.931  < 2e-16 ***\n",
       "gender_factorFemale          0.031481   0.013578   2.319   0.0205 *  \n",
       "age_factorGreater than 45   -0.190708   0.013707 -13.913  < 2e-16 ***\n",
       "age_factorLess than 25       0.257228   0.013794  18.648  < 2e-16 ***\n",
       "race_factorAfrican-American  0.096820   0.012125   7.985 1.66e-15 ***\n",
       "race_factorAsian            -0.043872   0.074869  -0.586   0.5579    \n",
       "race_factorHispanic         -0.069479   0.020487  -3.391   0.0007 ***\n",
       "race_factorNative American   0.250573   0.125053   2.004   0.0451 *  \n",
       "race_factorOther            -0.130449   0.024129  -5.406 6.67e-08 ***\n",
       "priors_count                 0.037658   0.001246  30.231  < 2e-16 ***\n",
       "crime_factorM               -0.059831   0.011241  -5.323 1.06e-07 ***\n",
       "two_year_recid               0.141640   0.011376  12.451  < 2e-16 ***\n",
       "---\n",
       "Signif. codes:  0 ‘***’ 0.001 ‘**’ 0.01 ‘*’ 0.05 ‘.’ 0.1 ‘ ’ 1\n",
       "\n",
       "(Dispersion parameter for gaussian family taken to be 0.1709608)\n",
       "\n",
       "    Null deviance: 1524.8  on 6171  degrees of freedom\n",
       "Residual deviance: 1053.1  on 6160  degrees of freedom\n",
       "AIC: 6627.6\n",
       "\n",
       "Number of Fisher Scoring iterations: 2\n"
      ]
     },
     "metadata": {},
     "output_type": "display_data"
    }
   ],
   "source": [
    "# First, change the outcome variable to numeric\n",
    "df$score_factor_numeric <- as.numeric(df$score_factor == 'HighScore')\n",
    "\n",
    "model_ols <- glm(score_factor_numeric ~ gender_factor + age_factor + race_factor +\n",
    "                 priors_count + crime_factor + two_year_recid, family=\"gaussian\", data=df)\n",
    "summary(model_ols)"
   ]
  },
  {
   "cell_type": "markdown",
   "metadata": {},
   "source": [
    "In this OLS model, the \"effect\" of being African-American is 9.7 percentage points, which is comparable to what we got when looking at the marginal effects model. "
   ]
  },
  {
   "cell_type": "markdown",
   "metadata": {},
   "source": [
    "# Claim 2: Women are 19.4% more likely than men to get a higher score.\n",
    "\n",
    "Using the same technique as above, we can replicate the analysis in cell 18. When we do that, women are only 8% more likely."
   ]
  },
  {
   "cell_type": "code",
   "execution_count": 19,
   "metadata": {
    "scrolled": true
   },
   "outputs": [
    {
     "data": {
      "text/html": [
       "<ol>\n",
       "\t<li><table>\n",
       "<thead><tr><th scope=col>Label</th><th scope=col>Margin</th><th scope=col>Standard.Error</th><th scope=col>Test.Stat</th><th scope=col>P.Value</th><th scope=col>Lower CI (95%)</th><th scope=col>Upper CI (95%)</th></tr></thead>\n",
       "<tbody>\n",
       "\t<tr><td>gender_factor = Male  </td><td>0.4385519             </td><td>0.005765158           </td><td>76.06937              </td><td>0                     </td><td>0.4272524             </td><td>0.4498514             </td></tr>\n",
       "\t<tr><td>gender_factor = Female</td><td>0.4753457             </td><td>0.011845259           </td><td>40.12961              </td><td>0                     </td><td>0.4521294             </td><td>0.4985620             </td></tr>\n",
       "</tbody>\n",
       "</table>\n",
       "</li>\n",
       "</ol>\n"
      ],
      "text/latex": [
       "\\begin{enumerate}\n",
       "\\item \\begin{tabular}{r|lllllll}\n",
       " Label & Margin & Standard.Error & Test.Stat & P.Value & Lower CI (95\\%) & Upper CI (95\\%)\\\\\n",
       "\\hline\n",
       "\t gender\\_factor = Male   & 0.4385519                & 0.005765158              & 76.06937                 & 0                        & 0.4272524                & 0.4498514               \\\\\n",
       "\t gender\\_factor = Female & 0.4753457                & 0.011845259              & 40.12961                 & 0                        & 0.4521294                & 0.4985620               \\\\\n",
       "\\end{tabular}\n",
       "\n",
       "\\end{enumerate}\n"
      ],
      "text/markdown": [
       "1. \n",
       "Label | Margin | Standard.Error | Test.Stat | P.Value | Lower CI (95%) | Upper CI (95%) | \n",
       "|---|---|\n",
       "| gender_factor = Male   | 0.4385519              | 0.005765158            | 76.06937               | 0                      | 0.4272524              | 0.4498514              | \n",
       "| gender_factor = Female | 0.4753457              | 0.011845259            | 40.12961               | 0                      | 0.4521294              | 0.4985620              | \n",
       "\n",
       "\n",
       "\n",
       "\n",
       "\n"
      ],
      "text/plain": [
       "[[1]]\n",
       "                   Label    Margin Standard.Error Test.Stat P.Value\n",
       "1   gender_factor = Male 0.4385519    0.005765158  76.06937       0\n",
       "2 gender_factor = Female 0.4753457    0.011845259  40.12961       0\n",
       "  Lower CI (95%) Upper CI (95%)\n",
       "1      0.4272524      0.4498514\n",
       "2      0.4521294      0.4985620\n"
      ]
     },
     "metadata": {},
     "output_type": "display_data"
    },
    {
     "data": {
      "text/html": [
       "<ol>\n",
       "\t<li><table>\n",
       "<thead><tr><th scope=col>Label</th><th scope=col>Margin</th><th scope=col>Standard.Error</th><th scope=col>Test.Stat</th><th scope=col>P.Value</th><th scope=col>Lower CI (95%)</th><th scope=col>Upper CI (95%)</th></tr></thead>\n",
       "<tbody>\n",
       "\t<tr><td>gender_factor = Male  </td><td>0.00000000            </td><td>0.00000000            </td><td>     NaN              </td><td>        NaN           </td><td>0.00000000            </td><td>0.00000000            </td></tr>\n",
       "\t<tr><td>gender_factor = Female</td><td>0.03679375            </td><td>0.01321767            </td><td>2.783679              </td><td>0.005374628           </td><td>0.01088759            </td><td>0.06269991            </td></tr>\n",
       "</tbody>\n",
       "</table>\n",
       "</li>\n",
       "</ol>\n"
      ],
      "text/latex": [
       "\\begin{enumerate}\n",
       "\\item \\begin{tabular}{r|lllllll}\n",
       " Label & Margin & Standard.Error & Test.Stat & P.Value & Lower CI (95\\%) & Upper CI (95\\%)\\\\\n",
       "\\hline\n",
       "\t gender\\_factor = Male   & 0.00000000               & 0.00000000               &      NaN                 &         NaN              & 0.00000000               & 0.00000000              \\\\\n",
       "\t gender\\_factor = Female & 0.03679375               & 0.01321767               & 2.783679                 & 0.005374628              & 0.01088759               & 0.06269991              \\\\\n",
       "\\end{tabular}\n",
       "\n",
       "\\end{enumerate}\n"
      ],
      "text/markdown": [
       "1. \n",
       "Label | Margin | Standard.Error | Test.Stat | P.Value | Lower CI (95%) | Upper CI (95%) | \n",
       "|---|---|\n",
       "| gender_factor = Male   | 0.00000000             | 0.00000000             |      NaN               |         NaN            | 0.00000000             | 0.00000000             | \n",
       "| gender_factor = Female | 0.03679375             | 0.01321767             | 2.783679               | 0.005374628            | 0.01088759             | 0.06269991             | \n",
       "\n",
       "\n",
       "\n",
       "\n",
       "\n"
      ],
      "text/plain": [
       "[[1]]\n",
       "                   Label     Margin Standard.Error Test.Stat     P.Value\n",
       "1   gender_factor = Male 0.00000000     0.00000000       NaN         NaN\n",
       "2 gender_factor = Female 0.03679375     0.01321767  2.783679 0.005374628\n",
       "  Lower CI (95%) Upper CI (95%)\n",
       "1     0.00000000     0.00000000\n",
       "2     0.01088759     0.06269991\n"
      ]
     },
     "metadata": {},
     "output_type": "display_data"
    },
    {
     "data": {
      "text/html": [
       "1.08447488584475"
      ],
      "text/latex": [
       "1.08447488584475"
      ],
      "text/markdown": [
       "1.08447488584475"
      ],
      "text/plain": [
       "[1] 1.084475"
      ]
     },
     "metadata": {},
     "output_type": "display_data"
    }
   ],
   "source": [
    "modmarg::marg(model, 'gender_factor', type = 'levels')\n",
    "\n",
    "modmarg::marg(model, 'gender_factor', type = 'effects')\n",
    "\n",
    "0.475 / 0.438 # risk level"
   ]
  },
  {
   "cell_type": "markdown",
   "metadata": {},
   "source": [
    "Women are actually only 8% more likely than men to get a higher score, a difference of under 4 percentage points."
   ]
  },
  {
   "cell_type": "markdown",
   "metadata": {},
   "source": [
    "# Claim 3: [P]eople under 25 are 2.5 times as likely to get a higher score as middle aged defendants.\n",
    "\n",
    "Using the same technique as above, we can replicate the analysis in cell 18. When recalculated, people under 25 are 1.9 times as likely."
   ]
  },
  {
   "cell_type": "code",
   "execution_count": 20,
   "metadata": {
    "scrolled": true
   },
   "outputs": [
    {
     "data": {
      "text/html": [
       "<ol>\n",
       "\t<li><table>\n",
       "<thead><tr><th scope=col>Label</th><th scope=col>Margin</th><th scope=col>Standard.Error</th><th scope=col>Test.Stat</th><th scope=col>P.Value</th><th scope=col>Lower CI (95%)</th><th scope=col>Upper CI (95%)</th></tr></thead>\n",
       "<tbody>\n",
       "\t<tr><td>age_factor = 25 - 45        </td><td>0.4225338                   </td><td>0.007226936                 </td><td>58.46652                    </td><td> 0.000000e+00               </td><td>0.4083693                   </td><td>0.4366983                   </td></tr>\n",
       "\t<tr><td>age_factor = Greater than 45</td><td>0.2207941                   </td><td>0.010302913                 </td><td>21.43026                    </td><td>6.979636e-102               </td><td>0.2006007                   </td><td>0.2409874                   </td></tr>\n",
       "\t<tr><td>age_factor = Less than 25   </td><td>0.6674816                   </td><td>0.011296074                 </td><td>59.08970                    </td><td> 0.000000e+00               </td><td>0.6453417                   </td><td>0.6896215                   </td></tr>\n",
       "</tbody>\n",
       "</table>\n",
       "</li>\n",
       "</ol>\n"
      ],
      "text/latex": [
       "\\begin{enumerate}\n",
       "\\item \\begin{tabular}{r|lllllll}\n",
       " Label & Margin & Standard.Error & Test.Stat & P.Value & Lower CI (95\\%) & Upper CI (95\\%)\\\\\n",
       "\\hline\n",
       "\t age\\_factor = 25 - 45         & 0.4225338                      & 0.007226936                    & 58.46652                       &  0.000000e+00                  & 0.4083693                      & 0.4366983                     \\\\\n",
       "\t age\\_factor = Greater than 45 & 0.2207941                      & 0.010302913                    & 21.43026                       & 6.979636e-102                  & 0.2006007                      & 0.2409874                     \\\\\n",
       "\t age\\_factor = Less than 25    & 0.6674816                      & 0.011296074                    & 59.08970                       &  0.000000e+00                  & 0.6453417                      & 0.6896215                     \\\\\n",
       "\\end{tabular}\n",
       "\n",
       "\\end{enumerate}\n"
      ],
      "text/markdown": [
       "1. \n",
       "Label | Margin | Standard.Error | Test.Stat | P.Value | Lower CI (95%) | Upper CI (95%) | \n",
       "|---|---|---|\n",
       "| age_factor = 25 - 45         | 0.4225338                    | 0.007226936                  | 58.46652                     |  0.000000e+00                | 0.4083693                    | 0.4366983                    | \n",
       "| age_factor = Greater than 45 | 0.2207941                    | 0.010302913                  | 21.43026                     | 6.979636e-102                | 0.2006007                    | 0.2409874                    | \n",
       "| age_factor = Less than 25    | 0.6674816                    | 0.011296074                  | 59.08970                     |  0.000000e+00                | 0.6453417                    | 0.6896215                    | \n",
       "\n",
       "\n",
       "\n",
       "\n",
       "\n"
      ],
      "text/plain": [
       "[[1]]\n",
       "                         Label    Margin Standard.Error Test.Stat       P.Value\n",
       "1         age_factor = 25 - 45 0.4225338    0.007226936  58.46652  0.000000e+00\n",
       "2 age_factor = Greater than 45 0.2207941    0.010302913  21.43026 6.979636e-102\n",
       "3    age_factor = Less than 25 0.6674816    0.011296074  59.08970  0.000000e+00\n",
       "  Lower CI (95%) Upper CI (95%)\n",
       "1      0.4083693      0.4366983\n",
       "2      0.2006007      0.2409874\n",
       "3      0.6453417      0.6896215\n"
      ]
     },
     "metadata": {},
     "output_type": "display_data"
    },
    {
     "data": {
      "text/html": [
       "<ol>\n",
       "\t<li><table>\n",
       "<thead><tr><th scope=col>Label</th><th scope=col>Margin</th><th scope=col>Standard.Error</th><th scope=col>Test.Stat</th><th scope=col>P.Value</th><th scope=col>Lower CI (95%)</th><th scope=col>Upper CI (95%)</th></tr></thead>\n",
       "<tbody>\n",
       "\t<tr><td>age_factor = 25 - 45        </td><td> 0.0000000                  </td><td>0.00000000                  </td><td>      NaN                   </td><td>         NaN                </td><td> 0.0000000                  </td><td> 0.0000000                  </td></tr>\n",
       "\t<tr><td>age_factor = Greater than 45</td><td>-0.2017397                  </td><td>0.01251396                  </td><td>-16.12117                   </td><td>1.811392e-58                </td><td>-0.2262667                  </td><td>-0.1772128                  </td></tr>\n",
       "\t<tr><td>age_factor = Less than 25   </td><td> 0.2449479                  </td><td>0.01352305                  </td><td> 18.11335                   </td><td>2.500353e-73                </td><td> 0.2184432                  </td><td> 0.2714525                  </td></tr>\n",
       "</tbody>\n",
       "</table>\n",
       "</li>\n",
       "</ol>\n"
      ],
      "text/latex": [
       "\\begin{enumerate}\n",
       "\\item \\begin{tabular}{r|lllllll}\n",
       " Label & Margin & Standard.Error & Test.Stat & P.Value & Lower CI (95\\%) & Upper CI (95\\%)\\\\\n",
       "\\hline\n",
       "\t age\\_factor = 25 - 45         &  0.0000000                     & 0.00000000                     &       NaN                      &          NaN                   &  0.0000000                     &  0.0000000                    \\\\\n",
       "\t age\\_factor = Greater than 45 & -0.2017397                     & 0.01251396                     & -16.12117                      & 1.811392e-58                   & -0.2262667                     & -0.1772128                    \\\\\n",
       "\t age\\_factor = Less than 25    &  0.2449479                     & 0.01352305                     &  18.11335                      & 2.500353e-73                   &  0.2184432                     &  0.2714525                    \\\\\n",
       "\\end{tabular}\n",
       "\n",
       "\\end{enumerate}\n"
      ],
      "text/markdown": [
       "1. \n",
       "Label | Margin | Standard.Error | Test.Stat | P.Value | Lower CI (95%) | Upper CI (95%) | \n",
       "|---|---|---|\n",
       "| age_factor = 25 - 45         |  0.0000000                   | 0.00000000                   |       NaN                    |          NaN                 |  0.0000000                   |  0.0000000                   | \n",
       "| age_factor = Greater than 45 | -0.2017397                   | 0.01251396                   | -16.12117                    | 1.811392e-58                 | -0.2262667                   | -0.1772128                   | \n",
       "| age_factor = Less than 25    |  0.2449479                   | 0.01352305                   |  18.11335                    | 2.500353e-73                 |  0.2184432                   |  0.2714525                   | \n",
       "\n",
       "\n",
       "\n",
       "\n",
       "\n"
      ],
      "text/plain": [
       "[[1]]\n",
       "                         Label     Margin Standard.Error Test.Stat      P.Value\n",
       "1         age_factor = 25 - 45  0.0000000     0.00000000       NaN          NaN\n",
       "2 age_factor = Greater than 45 -0.2017397     0.01251396 -16.12117 1.811392e-58\n",
       "3    age_factor = Less than 25  0.2449479     0.01352305  18.11335 2.500353e-73\n",
       "  Lower CI (95%) Upper CI (95%)\n",
       "1      0.0000000      0.0000000\n",
       "2     -0.2262667     -0.1772128\n",
       "3      0.2184432      0.2714525\n"
      ]
     },
     "metadata": {},
     "output_type": "display_data"
    },
    {
     "data": {
      "text/html": [
       "1.91436338921613"
      ],
      "text/latex": [
       "1.91436338921613"
      ],
      "text/markdown": [
       "1.91436338921613"
      ],
      "text/plain": [
       "[1] 1.914363"
      ]
     },
     "metadata": {},
     "output_type": "display_data"
    }
   ],
   "source": [
    "modmarg::marg(model, 'age_factor', type = 'levels')\n",
    "\n",
    "modmarg::marg(model, 'age_factor', type = 'effects')\n",
    "\n",
    "0.4225 / 0.2207 # risk level"
   ]
  },
  {
   "cell_type": "markdown",
   "metadata": {},
   "source": [
    "People under 25 are 1.9 times as likely, a difference of 20 percentage points."
   ]
  },
  {
   "cell_type": "markdown",
   "metadata": {},
   "source": [
    "# Claim 4: The violent score overpredicts recidivism for black defendants by 77.3% compared to white defendants.\n",
    "\n",
    "When recalculated over the entire sample, this value is only 33%."
   ]
  },
  {
   "cell_type": "code",
   "execution_count": 21,
   "metadata": {
    "scrolled": true
   },
   "outputs": [
    {
     "data": {
      "text/html": [
       "4743"
      ],
      "text/latex": [
       "4743"
      ],
      "text/markdown": [
       "4743"
      ],
      "text/plain": [
       "[1] 4743"
      ]
     },
     "metadata": {},
     "output_type": "display_data"
    },
    {
     "data": {
      "text/html": [
       "4020"
      ],
      "text/latex": [
       "4020"
      ],
      "text/markdown": [
       "4020"
      ],
      "text/plain": [
       "[1] 4020"
      ]
     },
     "metadata": {},
     "output_type": "display_data"
    },
    {
     "data": {
      "text/plain": [
       "\n",
       "Call:\n",
       "glm(formula = score_factor ~ gender_factor + age_factor + race_factor + \n",
       "    priors_count + crime_factor + two_year_recid, family = \"binomial\", \n",
       "    data = df)\n",
       "\n",
       "Deviance Residuals: \n",
       "    Min       1Q   Median       3Q      Max  \n",
       "-2.9304  -0.5667  -0.3161   0.4192   2.8386  \n",
       "\n",
       "Coefficients:\n",
       "                            Estimate Std. Error z value Pr(>|z|)    \n",
       "(Intercept)                 -2.24274    0.11326 -19.802  < 2e-16 ***\n",
       "gender_factorFemale         -0.72890    0.12666  -5.755 8.66e-09 ***\n",
       "age_factorGreater than 45   -1.74208    0.18415  -9.460  < 2e-16 ***\n",
       "age_factorLess than 25       3.14591    0.11541  27.259  < 2e-16 ***\n",
       "race_factorAfrican-American  0.65893    0.10815   6.093 1.11e-09 ***\n",
       "race_factorAsian            -0.98521    0.70537  -1.397   0.1625    \n",
       "race_factorHispanic         -0.06416    0.19133  -0.335   0.7374    \n",
       "race_factorNative American   0.44793    1.03546   0.433   0.6653    \n",
       "race_factorOther            -0.20543    0.22464  -0.914   0.3605    \n",
       "priors_count                 0.13764    0.01161  11.854  < 2e-16 ***\n",
       "crime_factorM               -0.16367    0.09807  -1.669   0.0951 .  \n",
       "two_year_recid               0.93448    0.11527   8.107 5.20e-16 ***\n",
       "---\n",
       "Signif. codes:  0 ‘***’ 0.001 ‘**’ 0.01 ‘*’ 0.05 ‘.’ 0.1 ‘ ’ 1\n",
       "\n",
       "(Dispersion parameter for binomial family taken to be 1)\n",
       "\n",
       "    Null deviance: 4731.8  on 4019  degrees of freedom\n",
       "Residual deviance: 2998.8  on 4008  degrees of freedom\n",
       "AIC: 3022.8\n",
       "\n",
       "Number of Fisher Scoring iterations: 6\n"
      ]
     },
     "metadata": {},
     "output_type": "display_data"
    }
   ],
   "source": [
    "# Replicating analysis from cell 20 through 30.\n",
    "\n",
    "raw_data <- read.csv(\"./compas-scores-two-years-violent.csv\")\n",
    "nrow(raw_data)\n",
    "\n",
    "df <- dplyr::select(raw_data, age, c_charge_degree, race, age_cat, v_score_text, sex, priors_count, \n",
    "                    days_b_screening_arrest, v_decile_score, is_recid, two_year_recid) %>% \n",
    "        filter(days_b_screening_arrest <= 30) %>%\n",
    "        filter(days_b_screening_arrest >= -30) %>% \n",
    "        filter(is_recid != -1) %>%\n",
    "        filter(c_charge_degree != \"O\") %>%\n",
    "        filter(v_score_text != 'N/A')\n",
    "nrow(df)\n",
    "\n",
    "df <- mutate(df, crime_factor = factor(c_charge_degree)) %>%\n",
    "      mutate(age_factor = as.factor(age_cat)) %>%\n",
    "      within(age_factor <- relevel(age_factor, ref = 1)) %>%\n",
    "      mutate(race_factor = factor(race,\n",
    "                                  labels = c(\"African-American\", \n",
    "                                             \"Asian\",\n",
    "                                             \"Caucasian\", \n",
    "                                             \"Hispanic\", \n",
    "                                             \"Native American\",\n",
    "                                             \"Other\"))) %>%\n",
    "      within(race_factor <- relevel(race_factor, ref = 3)) %>%\n",
    "      mutate(gender_factor = factor(sex, labels= c(\"Female\",\"Male\"))) %>%\n",
    "      within(gender_factor <- relevel(gender_factor, ref = 2)) %>%\n",
    "      mutate(score_factor = factor(v_score_text != \"Low\", labels = c(\"LowScore\",\"HighScore\")))\n",
    "model <- glm(score_factor ~ gender_factor + age_factor + race_factor +\n",
    "                            priors_count + crime_factor + two_year_recid, family=\"binomial\", data=df)\n",
    "summary(model)"
   ]
  },
  {
   "cell_type": "markdown",
   "metadata": {},
   "source": [
    "## Marginal Effects Re-Analysis"
   ]
  },
  {
   "cell_type": "code",
   "execution_count": 22,
   "metadata": {
    "scrolled": true
   },
   "outputs": [
    {
     "data": {
      "text/html": [
       "<ol>\n",
       "\t<li><table>\n",
       "<thead><tr><th scope=col>Label</th><th scope=col>Margin</th><th scope=col>Standard.Error</th><th scope=col>Test.Stat</th><th scope=col>P.Value</th><th scope=col>Lower CI (95%)</th><th scope=col>Upper CI (95%)</th></tr></thead>\n",
       "<tbody>\n",
       "\t<tr><td>race_factor = Caucasian       </td><td>0.2357338                     </td><td>0.009518571                   </td><td>24.765671                     </td><td>2.101997e-135                 </td><td>0.21707774                    </td><td>0.2543899                     </td></tr>\n",
       "\t<tr><td>race_factor = African-American</td><td>0.3133580                     </td><td>0.007895473                   </td><td>39.688312                     </td><td> 0.000000e+00                 </td><td>0.29788316                    </td><td>0.3288328                     </td></tr>\n",
       "\t<tr><td>race_factor = Asian           </td><td>0.1429904                     </td><td>0.056474809                   </td><td> 2.531932                     </td><td> 1.134359e-02                 </td><td>0.03230181                    </td><td>0.2536790                     </td></tr>\n",
       "\t<tr><td>race_factor = Hispanic        </td><td>0.2288773                     </td><td>0.018063647                   </td><td>12.670601                     </td><td> 8.605207e-37                 </td><td>0.19347318                    </td><td>0.2642814                     </td></tr>\n",
       "\t<tr><td>race_factor = Native American </td><td>0.2870232                     </td><td>0.125256298                   </td><td> 2.291487                     </td><td> 2.193525e-02                 </td><td>0.04152537                    </td><td>0.5325210                     </td></tr>\n",
       "\t<tr><td>race_factor = Other           </td><td>0.2141940                     </td><td>0.021125177                   </td><td>10.139276                     </td><td> 3.698306e-24                 </td><td>0.17278941                    </td><td>0.2555986                     </td></tr>\n",
       "</tbody>\n",
       "</table>\n",
       "</li>\n",
       "</ol>\n"
      ],
      "text/latex": [
       "\\begin{enumerate}\n",
       "\\item \\begin{tabular}{r|lllllll}\n",
       " Label & Margin & Standard.Error & Test.Stat & P.Value & Lower CI (95\\%) & Upper CI (95\\%)\\\\\n",
       "\\hline\n",
       "\t race\\_factor = Caucasian        & 0.2357338                        & 0.009518571                      & 24.765671                        & 2.101997e-135                    & 0.21707774                       & 0.2543899                       \\\\\n",
       "\t race\\_factor = African-American & 0.3133580                        & 0.007895473                      & 39.688312                        &  0.000000e+00                    & 0.29788316                       & 0.3288328                       \\\\\n",
       "\t race\\_factor = Asian            & 0.1429904                        & 0.056474809                      &  2.531932                        &  1.134359e-02                    & 0.03230181                       & 0.2536790                       \\\\\n",
       "\t race\\_factor = Hispanic         & 0.2288773                        & 0.018063647                      & 12.670601                        &  8.605207e-37                    & 0.19347318                       & 0.2642814                       \\\\\n",
       "\t race\\_factor = Native American  & 0.2870232                        & 0.125256298                      &  2.291487                        &  2.193525e-02                    & 0.04152537                       & 0.5325210                       \\\\\n",
       "\t race\\_factor = Other            & 0.2141940                        & 0.021125177                      & 10.139276                        &  3.698306e-24                    & 0.17278941                       & 0.2555986                       \\\\\n",
       "\\end{tabular}\n",
       "\n",
       "\\end{enumerate}\n"
      ],
      "text/markdown": [
       "1. \n",
       "Label | Margin | Standard.Error | Test.Stat | P.Value | Lower CI (95%) | Upper CI (95%) | \n",
       "|---|---|---|---|---|---|\n",
       "| race_factor = Caucasian        | 0.2357338                      | 0.009518571                    | 24.765671                      | 2.101997e-135                  | 0.21707774                     | 0.2543899                      | \n",
       "| race_factor = African-American | 0.3133580                      | 0.007895473                    | 39.688312                      |  0.000000e+00                  | 0.29788316                     | 0.3288328                      | \n",
       "| race_factor = Asian            | 0.1429904                      | 0.056474809                    |  2.531932                      |  1.134359e-02                  | 0.03230181                     | 0.2536790                      | \n",
       "| race_factor = Hispanic         | 0.2288773                      | 0.018063647                    | 12.670601                      |  8.605207e-37                  | 0.19347318                     | 0.2642814                      | \n",
       "| race_factor = Native American  | 0.2870232                      | 0.125256298                    |  2.291487                      |  2.193525e-02                  | 0.04152537                     | 0.5325210                      | \n",
       "| race_factor = Other            | 0.2141940                      | 0.021125177                    | 10.139276                      |  3.698306e-24                  | 0.17278941                     | 0.2555986                      | \n",
       "\n",
       "\n",
       "\n",
       "\n",
       "\n"
      ],
      "text/plain": [
       "[[1]]\n",
       "                           Label    Margin Standard.Error Test.Stat\n",
       "1        race_factor = Caucasian 0.2357338    0.009518571 24.765671\n",
       "2 race_factor = African-American 0.3133580    0.007895473 39.688312\n",
       "3            race_factor = Asian 0.1429904    0.056474809  2.531932\n",
       "4         race_factor = Hispanic 0.2288773    0.018063647 12.670601\n",
       "5  race_factor = Native American 0.2870232    0.125256298  2.291487\n",
       "6            race_factor = Other 0.2141940    0.021125177 10.139276\n",
       "        P.Value Lower CI (95%) Upper CI (95%)\n",
       "1 2.101997e-135     0.21707774      0.2543899\n",
       "2  0.000000e+00     0.29788316      0.3288328\n",
       "3  1.134359e-02     0.03230181      0.2536790\n",
       "4  8.605207e-37     0.19347318      0.2642814\n",
       "5  2.193525e-02     0.04152537      0.5325210\n",
       "6  3.698306e-24     0.17278941      0.2555986\n"
      ]
     },
     "metadata": {},
     "output_type": "display_data"
    },
    {
     "data": {
      "text/html": [
       "<ol>\n",
       "\t<li><table>\n",
       "<thead><tr><th scope=col>Label</th><th scope=col>Margin</th><th scope=col>Standard.Error</th><th scope=col>Test.Stat</th><th scope=col>P.Value</th><th scope=col>Lower CI (95%)</th><th scope=col>Upper CI (95%)</th></tr></thead>\n",
       "<tbody>\n",
       "\t<tr><td>race_factor = Caucasian       </td><td> 0.000000000                  </td><td>0.00000000                    </td><td>       NaN                    </td><td>         NaN                  </td><td> 0.00000000                   </td><td>0.00000000                    </td></tr>\n",
       "\t<tr><td>race_factor = African-American</td><td> 0.077624208                  </td><td>0.01252366                    </td><td> 6.1982032                    </td><td>5.711138e-10                  </td><td> 0.05307828                   </td><td>0.10217014                    </td></tr>\n",
       "\t<tr><td>race_factor = Asian           </td><td>-0.092743399                  </td><td>0.05723947                    </td><td>-1.6202700                    </td><td>1.051743e-01                  </td><td>-0.20493070                   </td><td>0.01944390                    </td></tr>\n",
       "\t<tr><td>race_factor = Hispanic        </td><td>-0.006856523                  </td><td>0.02034080                    </td><td>-0.3370823                    </td><td>7.360548e-01                  </td><td>-0.04672375                   </td><td>0.03301071                    </td></tr>\n",
       "\t<tr><td>race_factor = Native American </td><td> 0.051289407                  </td><td>0.12560800                    </td><td> 0.4083292                    </td><td>6.830320e-01                  </td><td>-0.19489774                   </td><td>0.29747656                    </td></tr>\n",
       "\t<tr><td>race_factor = Other           </td><td>-0.021539801                  </td><td>0.02308608                    </td><td>-0.9330211                    </td><td>3.508091e-01                  </td><td>-0.06678769                   </td><td>0.02370809                    </td></tr>\n",
       "</tbody>\n",
       "</table>\n",
       "</li>\n",
       "</ol>\n"
      ],
      "text/latex": [
       "\\begin{enumerate}\n",
       "\\item \\begin{tabular}{r|lllllll}\n",
       " Label & Margin & Standard.Error & Test.Stat & P.Value & Lower CI (95\\%) & Upper CI (95\\%)\\\\\n",
       "\\hline\n",
       "\t race\\_factor = Caucasian        &  0.000000000                     & 0.00000000                       &        NaN                       &          NaN                     &  0.00000000                      & 0.00000000                      \\\\\n",
       "\t race\\_factor = African-American &  0.077624208                     & 0.01252366                       &  6.1982032                       & 5.711138e-10                     &  0.05307828                      & 0.10217014                      \\\\\n",
       "\t race\\_factor = Asian            & -0.092743399                     & 0.05723947                       & -1.6202700                       & 1.051743e-01                     & -0.20493070                      & 0.01944390                      \\\\\n",
       "\t race\\_factor = Hispanic         & -0.006856523                     & 0.02034080                       & -0.3370823                       & 7.360548e-01                     & -0.04672375                      & 0.03301071                      \\\\\n",
       "\t race\\_factor = Native American  &  0.051289407                     & 0.12560800                       &  0.4083292                       & 6.830320e-01                     & -0.19489774                      & 0.29747656                      \\\\\n",
       "\t race\\_factor = Other            & -0.021539801                     & 0.02308608                       & -0.9330211                       & 3.508091e-01                     & -0.06678769                      & 0.02370809                      \\\\\n",
       "\\end{tabular}\n",
       "\n",
       "\\end{enumerate}\n"
      ],
      "text/markdown": [
       "1. \n",
       "Label | Margin | Standard.Error | Test.Stat | P.Value | Lower CI (95%) | Upper CI (95%) | \n",
       "|---|---|---|---|---|---|\n",
       "| race_factor = Caucasian        |  0.000000000                   | 0.00000000                     |        NaN                     |          NaN                   |  0.00000000                    | 0.00000000                     | \n",
       "| race_factor = African-American |  0.077624208                   | 0.01252366                     |  6.1982032                     | 5.711138e-10                   |  0.05307828                    | 0.10217014                     | \n",
       "| race_factor = Asian            | -0.092743399                   | 0.05723947                     | -1.6202700                     | 1.051743e-01                   | -0.20493070                    | 0.01944390                     | \n",
       "| race_factor = Hispanic         | -0.006856523                   | 0.02034080                     | -0.3370823                     | 7.360548e-01                   | -0.04672375                    | 0.03301071                     | \n",
       "| race_factor = Native American  |  0.051289407                   | 0.12560800                     |  0.4083292                     | 6.830320e-01                   | -0.19489774                    | 0.29747656                     | \n",
       "| race_factor = Other            | -0.021539801                   | 0.02308608                     | -0.9330211                     | 3.508091e-01                   | -0.06678769                    | 0.02370809                     | \n",
       "\n",
       "\n",
       "\n",
       "\n",
       "\n"
      ],
      "text/plain": [
       "[[1]]\n",
       "                           Label       Margin Standard.Error  Test.Stat\n",
       "1        race_factor = Caucasian  0.000000000     0.00000000        NaN\n",
       "2 race_factor = African-American  0.077624208     0.01252366  6.1982032\n",
       "3            race_factor = Asian -0.092743399     0.05723947 -1.6202700\n",
       "4         race_factor = Hispanic -0.006856523     0.02034080 -0.3370823\n",
       "5  race_factor = Native American  0.051289407     0.12560800  0.4083292\n",
       "6            race_factor = Other -0.021539801     0.02308608 -0.9330211\n",
       "       P.Value Lower CI (95%) Upper CI (95%)\n",
       "1          NaN     0.00000000     0.00000000\n",
       "2 5.711138e-10     0.05307828     0.10217014\n",
       "3 1.051743e-01    -0.20493070     0.01944390\n",
       "4 7.360548e-01    -0.04672375     0.03301071\n",
       "5 6.830320e-01    -0.19489774     0.29747656\n",
       "6 3.508091e-01    -0.06678769     0.02370809\n"
      ]
     },
     "metadata": {},
     "output_type": "display_data"
    },
    {
     "data": {
      "text/html": [
       "1.32928752686293"
      ],
      "text/latex": [
       "1.32928752686293"
      ],
      "text/markdown": [
       "1.32928752686293"
      ],
      "text/plain": [
       "[1] 1.329288"
      ]
     },
     "metadata": {},
     "output_type": "display_data"
    }
   ],
   "source": [
    "modmarg::marg(model, 'race_factor', type = 'levels')\n",
    "modmarg::marg(model, 'race_factor', type = 'effects')\n",
    "\n",
    "0.3133580/0.2357338 # risk level"
   ]
  },
  {
   "cell_type": "markdown",
   "metadata": {},
   "source": [
    "African-Americans are 33% more likely to be classified as high risk, a difference of 7.8 percentage points."
   ]
  },
  {
   "cell_type": "markdown",
   "metadata": {},
   "source": [
    "## Ordinary Least Squares Re-Analysis"
   ]
  },
  {
   "cell_type": "code",
   "execution_count": 23,
   "metadata": {
    "scrolled": false
   },
   "outputs": [
    {
     "data": {
      "text/plain": [
       "\n",
       "Call:\n",
       "glm(formula = score_factor_numeric ~ gender_factor + age_factor + \n",
       "    race_factor + priors_count + crime_factor + two_year_recid, \n",
       "    family = \"gaussian\", data = df)\n",
       "\n",
       "Deviance Residuals: \n",
       "     Min        1Q    Median        3Q       Max  \n",
       "-1.09342  -0.17992  -0.07787   0.11530   1.02116  \n",
       "\n",
       "Coefficients:\n",
       "                             Estimate Std. Error t value Pr(>|t|)    \n",
       "(Intercept)                  0.103822   0.012685   8.184 3.64e-16 ***\n",
       "gender_factorFemale         -0.073656   0.013556  -5.433 5.86e-08 ***\n",
       "age_factorGreater than 45   -0.124982   0.013555  -9.220  < 2e-16 ***\n",
       "age_factorLess than 25       0.596029   0.014732  40.458  < 2e-16 ***\n",
       "race_factorAfrican-American  0.076099   0.012471   6.102 1.14e-09 ***\n",
       "race_factorAsian            -0.080923   0.068220  -1.186    0.236    \n",
       "race_factorHispanic         -0.008205   0.020449  -0.401    0.688    \n",
       "race_factorNative American   0.037282   0.130611   0.285    0.775    \n",
       "race_factorOther            -0.020487   0.023430  -0.874    0.382    \n",
       "priors_count                 0.021089   0.001503  14.033  < 2e-16 ***\n",
       "crime_factorM               -0.016653   0.011286  -1.475    0.140    \n",
       "two_year_recid               0.149873   0.015581   9.619  < 2e-16 ***\n",
       "---\n",
       "Signif. codes:  0 ‘***’ 0.001 ‘**’ 0.01 ‘*’ 0.05 ‘.’ 0.1 ‘ ’ 1\n",
       "\n",
       "(Dispersion parameter for gaussian family taken to be 0.1186278)\n",
       "\n",
       "    Null deviance: 802.16  on 4019  degrees of freedom\n",
       "Residual deviance: 475.46  on 4008  degrees of freedom\n",
       "AIC: 2852.6\n",
       "\n",
       "Number of Fisher Scoring iterations: 2\n"
      ]
     },
     "metadata": {},
     "output_type": "display_data"
    }
   ],
   "source": [
    "df$score_factor_numeric <- as.numeric(df$score_factor == 'HighScore')\n",
    "\n",
    "model_ols <- glm(score_factor_numeric ~ gender_factor + age_factor + race_factor +\n",
    "                 priors_count + crime_factor + two_year_recid, family=\"gaussian\", data=df)\n",
    "summary(model_ols)"
   ]
  },
  {
   "cell_type": "markdown",
   "metadata": {},
   "source": [
    "Here, the marginal effect is 7.6 percentage points."
   ]
  },
  {
   "cell_type": "markdown",
   "metadata": {},
   "source": [
    "## For what proportion of the sample is the author's comparision valid?\n",
    "\n",
    "Let's assume that we actually did want to compare an `intercept` vs. `intercept + afam` model. What proportion of African-Americans and Whites actually fall into that category where all other covariates are set to 0? **Only 7.1%.**"
   ]
  },
  {
   "cell_type": "code",
   "execution_count": 24,
   "metadata": {
    "scrolled": true
   },
   "outputs": [
    {
     "data": {
      "text/html": [
       "0.0713651169677228"
      ],
      "text/latex": [
       "0.0713651169677228"
      ],
      "text/markdown": [
       "0.0713651169677228"
      ],
      "text/plain": [
       "[1] 0.07136512"
      ]
     },
     "metadata": {},
     "output_type": "display_data"
    }
   ],
   "source": [
    "meet_criteria <- sum(df$gender_factor != 'Female' & df$age_factor != 'Greater than 45' & \n",
    "                     df$age_factor != 'Less than 25' & \n",
    "                     df$race_factor %in% c('Caucasian', 'African-American') &\n",
    "                     df$priors_count == 0 & df$crime_factor != 'M' & df$two_year_recid == 0)\n",
    "\n",
    "all_afam_white <- sum(df$race_factor %in% c('Caucasian', 'African-American'))\n",
    "\n",
    "meet_criteria / all_afam_white"
   ]
  },
  {
   "cell_type": "markdown",
   "metadata": {},
   "source": [
    "# Claim 5: Defendands under 25 are 7.4 times as likely to get a higher score as middle aged defendants.\n",
    "\n",
    "When re-calculated, this value is 3.8 times."
   ]
  },
  {
   "cell_type": "code",
   "execution_count": 25,
   "metadata": {
    "scrolled": true
   },
   "outputs": [
    {
     "data": {
      "text/html": [
       "<ol>\n",
       "\t<li><table>\n",
       "<thead><tr><th scope=col>Label</th><th scope=col>Margin</th><th scope=col>Standard.Error</th><th scope=col>Test.Stat</th><th scope=col>P.Value</th><th scope=col>Lower CI (95%)</th><th scope=col>Upper CI (95%)</th></tr></thead>\n",
       "<tbody>\n",
       "\t<tr><td>age_factor = 25 - 45        </td><td>0.18972413                  </td><td>0.007367728                 </td><td>25.750697                   </td><td>3.165997e-146               </td><td>0.17528365                  </td><td>0.20416462                  </td></tr>\n",
       "\t<tr><td>age_factor = Greater than 45</td><td>0.05037548                  </td><td>0.007230352                 </td><td> 6.967224                   </td><td> 3.232566e-12               </td><td>0.03620425                  </td><td>0.06454671                  </td></tr>\n",
       "\t<tr><td>age_factor = Less than 25   </td><td>0.77612278                  </td><td>0.014546390                 </td><td>53.355010                   </td><td> 0.000000e+00               </td><td>0.74761238                  </td><td>0.80463318                  </td></tr>\n",
       "</tbody>\n",
       "</table>\n",
       "</li>\n",
       "</ol>\n"
      ],
      "text/latex": [
       "\\begin{enumerate}\n",
       "\\item \\begin{tabular}{r|lllllll}\n",
       " Label & Margin & Standard.Error & Test.Stat & P.Value & Lower CI (95\\%) & Upper CI (95\\%)\\\\\n",
       "\\hline\n",
       "\t age\\_factor = 25 - 45         & 0.18972413                     & 0.007367728                    & 25.750697                      & 3.165997e-146                  & 0.17528365                     & 0.20416462                    \\\\\n",
       "\t age\\_factor = Greater than 45 & 0.05037548                     & 0.007230352                    &  6.967224                      &  3.232566e-12                  & 0.03620425                     & 0.06454671                    \\\\\n",
       "\t age\\_factor = Less than 25    & 0.77612278                     & 0.014546390                    & 53.355010                      &  0.000000e+00                  & 0.74761238                     & 0.80463318                    \\\\\n",
       "\\end{tabular}\n",
       "\n",
       "\\end{enumerate}\n"
      ],
      "text/markdown": [
       "1. \n",
       "Label | Margin | Standard.Error | Test.Stat | P.Value | Lower CI (95%) | Upper CI (95%) | \n",
       "|---|---|---|\n",
       "| age_factor = 25 - 45         | 0.18972413                   | 0.007367728                  | 25.750697                    | 3.165997e-146                | 0.17528365                   | 0.20416462                   | \n",
       "| age_factor = Greater than 45 | 0.05037548                   | 0.007230352                  |  6.967224                    |  3.232566e-12                | 0.03620425                   | 0.06454671                   | \n",
       "| age_factor = Less than 25    | 0.77612278                   | 0.014546390                  | 53.355010                    |  0.000000e+00                | 0.74761238                   | 0.80463318                   | \n",
       "\n",
       "\n",
       "\n",
       "\n",
       "\n"
      ],
      "text/plain": [
       "[[1]]\n",
       "                         Label     Margin Standard.Error Test.Stat\n",
       "1         age_factor = 25 - 45 0.18972413    0.007367728 25.750697\n",
       "2 age_factor = Greater than 45 0.05037548    0.007230352  6.967224\n",
       "3    age_factor = Less than 25 0.77612278    0.014546390 53.355010\n",
       "        P.Value Lower CI (95%) Upper CI (95%)\n",
       "1 3.165997e-146     0.17528365     0.20416462\n",
       "2  3.232566e-12     0.03620425     0.06454671\n",
       "3  0.000000e+00     0.74761238     0.80463318\n"
      ]
     },
     "metadata": {},
     "output_type": "display_data"
    },
    {
     "data": {
      "text/html": [
       "<ol>\n",
       "\t<li><table>\n",
       "<thead><tr><th scope=col>Label</th><th scope=col>Margin</th><th scope=col>Standard.Error</th><th scope=col>Test.Stat</th><th scope=col>P.Value</th><th scope=col>Lower CI (95%)</th><th scope=col>Upper CI (95%)</th></tr></thead>\n",
       "<tbody>\n",
       "\t<tr><td>age_factor = 25 - 45        </td><td> 0.0000000                  </td><td>0.00000000                  </td><td>      NaN                   </td><td>          NaN               </td><td> 0.0000000                  </td><td> 0.0000000                  </td></tr>\n",
       "\t<tr><td>age_factor = Greater than 45</td><td>-0.1393487                  </td><td>0.01031010                  </td><td>-13.51575                   </td><td> 1.262691e-41               </td><td>-0.1595561                  </td><td>-0.1191412                  </td></tr>\n",
       "\t<tr><td>age_factor = Less than 25   </td><td> 0.5863986                  </td><td>0.01631487                  </td><td> 35.94258                   </td><td>6.609330e-283               </td><td> 0.5544221                  </td><td> 0.6183752                  </td></tr>\n",
       "</tbody>\n",
       "</table>\n",
       "</li>\n",
       "</ol>\n"
      ],
      "text/latex": [
       "\\begin{enumerate}\n",
       "\\item \\begin{tabular}{r|lllllll}\n",
       " Label & Margin & Standard.Error & Test.Stat & P.Value & Lower CI (95\\%) & Upper CI (95\\%)\\\\\n",
       "\\hline\n",
       "\t age\\_factor = 25 - 45         &  0.0000000                     & 0.00000000                     &       NaN                      &           NaN                  &  0.0000000                     &  0.0000000                    \\\\\n",
       "\t age\\_factor = Greater than 45 & -0.1393487                     & 0.01031010                     & -13.51575                      &  1.262691e-41                  & -0.1595561                     & -0.1191412                    \\\\\n",
       "\t age\\_factor = Less than 25    &  0.5863986                     & 0.01631487                     &  35.94258                      & 6.609330e-283                  &  0.5544221                     &  0.6183752                    \\\\\n",
       "\\end{tabular}\n",
       "\n",
       "\\end{enumerate}\n"
      ],
      "text/markdown": [
       "1. \n",
       "Label | Margin | Standard.Error | Test.Stat | P.Value | Lower CI (95%) | Upper CI (95%) | \n",
       "|---|---|---|\n",
       "| age_factor = 25 - 45         |  0.0000000                   | 0.00000000                   |       NaN                    |           NaN                |  0.0000000                   |  0.0000000                   | \n",
       "| age_factor = Greater than 45 | -0.1393487                   | 0.01031010                   | -13.51575                    |  1.262691e-41                | -0.1595561                   | -0.1191412                   | \n",
       "| age_factor = Less than 25    |  0.5863986                   | 0.01631487                   |  35.94258                    | 6.609330e-283                |  0.5544221                   |  0.6183752                   | \n",
       "\n",
       "\n",
       "\n",
       "\n",
       "\n"
      ],
      "text/plain": [
       "[[1]]\n",
       "                         Label     Margin Standard.Error Test.Stat\n",
       "1         age_factor = 25 - 45  0.0000000     0.00000000       NaN\n",
       "2 age_factor = Greater than 45 -0.1393487     0.01031010 -13.51575\n",
       "3    age_factor = Less than 25  0.5863986     0.01631487  35.94258\n",
       "        P.Value Lower CI (95%) Upper CI (95%)\n",
       "1           NaN      0.0000000      0.0000000\n",
       "2  1.262691e-41     -0.1595561     -0.1191412\n",
       "3 6.609330e-283      0.5544221      0.6183752\n"
      ]
     },
     "metadata": {},
     "output_type": "display_data"
    },
    {
     "data": {
      "text/html": [
       "3.78"
      ],
      "text/latex": [
       "3.78"
      ],
      "text/markdown": [
       "3.78"
      ],
      "text/plain": [
       "[1] 3.78"
      ]
     },
     "metadata": {},
     "output_type": "display_data"
    }
   ],
   "source": [
    "modmarg::marg(model, 'age_factor', type = 'levels')\n",
    "\n",
    "modmarg::marg(model, 'age_factor', type = 'effects')\n",
    "\n",
    "0.189 / 0.050 # risk level"
   ]
  },
  {
   "cell_type": "markdown",
   "metadata": {},
   "source": [
    "When re-analyzed using the entire sample, Defendants under 25 are only 3.8 times as likely to get a higher score. "
   ]
  }
 ],
 "metadata": {
  "kernelspec": {
   "display_name": "R",
   "language": "R",
   "name": "ir"
  },
  "language_info": {
   "codemirror_mode": "r",
   "file_extension": ".r",
   "mimetype": "text/x-r-source",
   "name": "R",
   "pygments_lexer": "r",
   "version": "3.3.3"
  }
 },
 "nbformat": 4,
 "nbformat_minor": 2
}
